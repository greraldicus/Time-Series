{
  "nbformat": 4,
  "nbformat_minor": 0,
  "metadata": {
    "colab": {
      "provenance": []
    },
    "kernelspec": {
      "name": "python3",
      "display_name": "Python 3"
    },
    "language_info": {
      "name": "python"
    }
  },
  "cells": [
    {
      "cell_type": "code",
      "source": [
        "import pandas as pd\n",
        "import numpy as np\n",
        "from sklearn.model_selection import train_test_split\n",
        "from sklearn.ensemble import RandomForestRegressor\n",
        "from sklearn.metrics import mean_squared_error\n",
        "import torch\n",
        "import torch.nn as nn\n",
        "import torch.optim as optim\n",
        "from torch.utils.data import DataLoader, TensorDataset\n",
        "\n",
        "df = pd.read_csv('norm.csv')"
      ],
      "metadata": {
        "id": "M0kP3tpgwJuq"
      },
      "execution_count": 1,
      "outputs": []
    },
    {
      "cell_type": "code",
      "source": [
        "X = df[['PE1', 'PE2', 'PE3', 'PE4', 'TP1', 'TP2']]\n",
        "y = df['FM1']"
      ],
      "metadata": {
        "id": "HN0jVXblwX_I"
      },
      "execution_count": 2,
      "outputs": []
    },
    {
      "cell_type": "code",
      "source": [
        "X_train, X_test, y_train, y_test = train_test_split(X, y, test_size=0.3, random_state=42)"
      ],
      "metadata": {
        "id": "JZlzMKm9wbHo"
      },
      "execution_count": 3,
      "outputs": []
    },
    {
      "cell_type": "code",
      "source": [
        "# Преобразование данных в тензоры\n",
        "X_train_tensor = torch.tensor(X_train.values, dtype=torch.float)\n",
        "X_test_tensor = torch.tensor(X_test.values, dtype=torch.float)\n",
        "y_train_tensor = torch.tensor(y_train.values, dtype=torch.float).view(-1, 1)  # Меняем форму, чтобы было (n, 1)\n",
        "y_test_tensor = torch.tensor(y_test.values, dtype=torch.float).view(-1, 1)  # Меняем форму, чтобы было (n, 1)"
      ],
      "metadata": {
        "id": "WOJKdhILFc1q"
      },
      "execution_count": 4,
      "outputs": []
    },
    {
      "cell_type": "code",
      "source": [
        "# Создание DataLoader для обучающего и тестового наборов\n",
        "train_dataset = TensorDataset(X_train_tensor, y_train_tensor)\n",
        "test_dataset = TensorDataset(X_test_tensor, y_test_tensor)"
      ],
      "metadata": {
        "id": "aYbdcUXeFdcX"
      },
      "execution_count": 5,
      "outputs": []
    },
    {
      "cell_type": "code",
      "source": [
        "# Пример создания DataLoader\n",
        "train_loader = DataLoader(train_dataset, batch_size=64, shuffle=True)\n",
        "test_loader = DataLoader(test_dataset, batch_size=64, shuffle=False)"
      ],
      "metadata": {
        "id": "XIfrK5F1Fq-p"
      },
      "execution_count": 6,
      "outputs": []
    },
    {
      "cell_type": "code",
      "source": [
        "import torch.nn as nn\n",
        "\n",
        "class AirModel(nn.Module):\n",
        "    def __init__(self):\n",
        "        super().__init__()\n",
        "        self.lstm = nn.LSTM(input_size=1, hidden_size=50, num_layers=1, batch_first=True)\n",
        "        self.linear = nn.Linear(50, 1)\n",
        "    def forward(self, x):\n",
        "        x, _ = self.lstm(x)\n",
        "        x = self.linear(x)\n",
        "        return x"
      ],
      "metadata": {
        "id": "x-8oro9nwqLn"
      },
      "execution_count": 7,
      "outputs": []
    },
    {
      "cell_type": "code",
      "source": [
        "# Определение модели, оптимизатора и функции потерь\n",
        "model = AirModel()\n",
        "optimizer = optim.Adam(model.parameters())\n",
        "loss_fn = nn.MSELoss()\n",
        "\n",
        "\n",
        "# Обучение модели\n",
        "EPOCHS = 20\n",
        "for epoch in range(EPOCHS):\n",
        "    for inputs, targets in train_loader:\n",
        "        optimizer.zero_grad()  # Обнуляем градиенты\n",
        "        outputs = model(inputs)  # Предсказание модели\n",
        "        loss = loss_fn(outputs, targets)  # Вычисление потерь\n",
        "        loss.backward()  # Обратное распространение ошибки\n",
        "        optimizer.step()  # Шаг оптимизатора\n",
        "    print(f'Эпоха [{epoch+1}/{EPOCHS}], Потери: {loss.item()}')"
      ],
      "metadata": {
        "id": "KdnwGHcqwvVv"
      },
      "execution_count": null,
      "outputs": []
    }
  ]
}